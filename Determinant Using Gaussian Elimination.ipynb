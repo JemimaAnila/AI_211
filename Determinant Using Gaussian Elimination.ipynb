{
 "cells": [
  {
   "cell_type": "markdown",
   "metadata": {},
   "source": [
    "Quiz:\n",
    "Using the properties of EROs, compute the determinant of any square matrix A by performing EROS on A, transforming it to row-echeleon form (i.e. upper triangular)"
   ]
  },
  {
   "cell_type": "code",
   "execution_count": 5,
   "metadata": {},
   "outputs": [
    {
     "ename": "ModuleNotFoundError",
     "evalue": "No module named 'numpy'",
     "output_type": "error",
     "traceback": [
      "\u001b[0;31m---------------------------------------------------------------------------\u001b[0m",
      "\u001b[0;31mModuleNotFoundError\u001b[0m                       Traceback (most recent call last)",
      "Cell \u001b[0;32mIn[5], line 1\u001b[0m\n\u001b[0;32m----> 1\u001b[0m \u001b[38;5;28;01mimport\u001b[39;00m \u001b[38;5;21;01mnumpy\u001b[39;00m \u001b[38;5;28;01mas\u001b[39;00m \u001b[38;5;21;01mnp\u001b[39;00m\n",
      "\u001b[0;31mModuleNotFoundError\u001b[0m: No module named 'numpy'"
     ]
    }
   ],
   "source": [
    "import numpy as np"
   ]
  },
  {
   "cell_type": "code",
   "execution_count": 6,
   "metadata": {},
   "outputs": [],
   "source": [
    "'''This solves the determinant using Laplace expansion. It is saved here as a note'''\n",
    "def Laplace_mat_det(A):\n",
    "    # This assumes that A is a square matrix\n",
    "    n = A.shape[0]\n",
    "    y = 0\n",
    "    #if size is already 1, then it's already a scalar/the determinant\n",
    "    if n == 1:\n",
    "        y = A[0, 0]\n",
    "        return y\n",
    "    else:\n",
    "        for i in range(n): # Expansion along the first row\n",
    "            minor = np.delete(A, 0, axis=0) #removes first row\n",
    "            minor = np.delete(minor, i, axis=1) #removes ith column\n",
    "            y += ((-1) ** (1 + i)) * A[0, i] * Laplace_mat_det(minor) #Laplace expansion; Recursive step\n",
    "        return y\n"
   ]
  },
  {
   "cell_type": "code",
   "execution_count": 8,
   "metadata": {},
   "outputs": [],
   "source": [
    "#Gaussian Elimination Function\n",
    "def mat_det(A):\n",
    "    # This assumes that A is a square matrix\n",
    "    n = A.shape[0]\n",
    "    det = 1\n",
    "    for i in range(n):\n",
    "        '''\n",
    "        This finds the maximum element in the current column. First, it assigns the current element as max element and current row as max row.\n",
    "        It then checks all the rows in the same column to see if there is a larger element. If there is, it uses ERO 1 to swap the current row with the row containing the larger element.\n",
    "        This step ensures we don't divide by 0 in the next step.\n",
    "        '''\n",
    "        max_el = abs(A[i][i]) \n",
    "        max_row = i\n",
    "        for k in range(i+1, n):\n",
    "            if abs(A[k][i]) > max_el:\n",
    "                max_el = abs(A[k][i])\n",
    "                max_row = k\n",
    "\n",
    "        # ERO 1: Swap i-th and max_row-th rows\n",
    "        A[[i, max_row]] = A[[max_row, i]]\n",
    "\n",
    "        # For each row after pivot row, calculate the factor that when multiplied to the i-th row and added to the k-th row, will make i-th element in the k-th row 0.\n",
    "        for k in range(i+1, n):\n",
    "            c = A[k][i]/A[i][i]\n",
    "\n",
    "            for j in range(i, n): #Iterate over elements in k-th row starting from the i-th element\n",
    "                if i == j:\n",
    "                    A[k][j] = 0\n",
    "                #ERO3: Subtract c times the i-th row from the k-th row to make the to make the i-th element in the k-th row 0\n",
    "                else:\n",
    "                    A[k][j] -= c * A[i][j]\n",
    "\n",
    "    # Product of elements on the main diagonal is the determinant\n",
    "    for i in range(n):\n",
    "        det *= A[i][i]\n",
    "    return det"
   ]
  },
  {
   "cell_type": "code",
   "execution_count": 11,
   "metadata": {},
   "outputs": [
    {
     "ename": "NameError",
     "evalue": "name 'np' is not defined",
     "output_type": "error",
     "traceback": [
      "\u001b[0;31m---------------------------------------------------------------------------\u001b[0m",
      "\u001b[0;31mNameError\u001b[0m                                 Traceback (most recent call last)",
      "Cell \u001b[0;32mIn[11], line 4\u001b[0m\n\u001b[1;32m      2\u001b[0m n\u001b[38;5;241m=\u001b[39m\u001b[38;5;241m2\u001b[39m\n\u001b[1;32m      3\u001b[0m \u001b[38;5;66;03m#Generate random square matrix of size n\u001b[39;00m\n\u001b[0;32m----> 4\u001b[0m A\u001b[38;5;241m=\u001b[39m\u001b[43mnp\u001b[49m\u001b[38;5;241m.\u001b[39mrandon\u001b[38;5;241m.\u001b[39mrand(n,n)\n\u001b[1;32m      5\u001b[0m \u001b[38;5;28mprint\u001b[39m(\u001b[38;5;124m\"\u001b[39m\u001b[38;5;124mA=\u001b[39m\u001b[38;5;124m\"\u001b[39m, A)\n\u001b[1;32m      6\u001b[0m \u001b[38;5;66;03m#Calculate and print determinant\u001b[39;00m\n",
      "\u001b[0;31mNameError\u001b[0m: name 'np' is not defined"
     ]
    }
   ],
   "source": [
    "#Testing the Gaussian Elimination Function\n",
    "n=2\n",
    "#Generate random square matrix of size n\n",
    "A=np.randon.rand(n,n)\n",
    "print(\"A=\", A)\n",
    "#Calculate and print determinant\n",
    "print(\"Determinant of A is\", mat_det(A))\n"
   ]
  },
  {
   "cell_type": "code",
   "execution_count": null,
   "metadata": {},
   "outputs": [],
   "source": []
  }
 ],
 "metadata": {
  "kernelspec": {
   "display_name": "Python 3",
   "language": "python",
   "name": "python3"
  },
  "language_info": {
   "codemirror_mode": {
    "name": "ipython",
    "version": 3
   },
   "file_extension": ".py",
   "mimetype": "text/x-python",
   "name": "python",
   "nbconvert_exporter": "python",
   "pygments_lexer": "ipython3",
   "version": "3.9.6"
  }
 },
 "nbformat": 4,
 "nbformat_minor": 2
}
